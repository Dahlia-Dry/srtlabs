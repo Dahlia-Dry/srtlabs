{
 "cells": [
  {
   "cell_type": "markdown",
   "metadata": {},
   "source": [
    "# SRT Lab: Galactic Rotation Curve"
   ]
  },
  {
   "cell_type": "code",
   "execution_count": null,
   "metadata": {},
   "outputs": [],
   "source": [
    "import numpy as np\n",
    "import pandas as pd\n",
    "import plotly.graph_objects as go\n",
    "import plotly.express as px\n",
    "import os\n",
    "from astropy.io import fits\n",
    "from astrocalc import *"
   ]
  },
  {
   "cell_type": "code",
   "execution_count": null,
   "metadata": {},
   "outputs": [],
   "source": [
    "#Specify directory containing fits images for each galactic longitude:\n",
    "datadir = 'srt-galactic-test'\n",
    "imgs = [fits.open(os.path.join(datadir,f)) for f in os.listdir(datadir) if f.endswith('.fits')]\n",
    "objnames = [f.split('.')[0] for f in os.listdir(datadir) if f.endswith('.fits')]\n",
    "vals = []\n",
    "freq = []\n",
    "for hdul in imgs:\n",
    "    data = hdul[0].data/len(hdul)\n",
    "    f_s = 2e6\n",
    "    n_spec = len(data)\n",
    "    for i in range(1,len(hdul)):\n",
    "        data = data + hdul[i].data/len(hdul)\n",
    "    freqs = np.fft.fftfreq(n_spec,1./f_s)\n",
    "    freqs = np.fft.fftshift(freqs)*1e-6+1420.4\n",
    "    vals.append(data)\n",
    "    freq.append(freqs)\n",
    "srtdata = pd.DataFrame({'value':vals,'frequency':freq,'objs':objnames})\n",
    "srtdata = srtdata.set_index('objs')\n",
    "print(srtdata.loc['g10'])"
   ]
  },
  {
   "cell_type": "markdown",
   "metadata": {},
   "source": [
    "## Plot Integrated Power Spectrum"
   ]
  },
  {
   "cell_type": "code",
   "execution_count": null,
   "metadata": {},
   "outputs": [],
   "source": [
    "#Display integrated power spectrum for given galactic longitude\n",
    "obj = 'g40' #set obj to desired fits file to display (no .fits extension needed)\n",
    "fig = px.scatter(x=srtdata['frequency'].loc[obj],y=srtdata['value'].loc[obj])\n",
    "fig.update_layout(\n",
    "    title=\"Integrated Power Spectrum for \"+ obj, xaxis_title=\"Frequency (MHz)\", yaxis_title=\"Value\",\n",
    ")\n",
    "fig.show()"
   ]
  },
  {
   "cell_type": "markdown",
   "metadata": {},
   "source": [
    "## Calculate V_lsr and Relative Velocity"
   ]
  },
  {
   "cell_type": "code",
   "execution_count": null,
   "metadata": {},
   "outputs": [],
   "source": [
    "#calculate v_lsr\n",
    "v_lsrs = []\n",
    "for hdul in imgs:\n",
    "    lat = 42.5 #at Haystack\n",
    "    lon = 71.5 #at Haystack\n",
    "    date = hdul[0].header['Date-OBS']\n",
    "    year= int(hdul[0].header['Date-OBS'].split('-')[0])\n",
    "    day = dayOfYear(date)\n",
    "    time = hdul[0].header['UTC']\n",
    "    hour,minute,sec = map(float,time.split(\":\"))\n",
    "    metadata = hdul[0].header['METADATA'].split(',')\n",
    "    for element in metadata:\n",
    "        if \"motor_az\" in element:\n",
    "            az = float(element.split(':')[-1])\n",
    "        elif \"motor_el\" in element:\n",
    "            el = float(element.split(':')[-1])\n",
    "    v_lsr = calc_vlsr(year,day,hour,minute,sec,az,el,lat,lon)\n",
    "    v_lsrs.append(v_lsr)\n",
    "srtdata['v_lsr'] = v_lsrs\n",
    "\n",
    "#use doppler shift to calculate relative velocity for each frequency bin\n",
    "lightspeed = 299792\n",
    "center_freq = 1420.4\n",
    "velocities = []\n",
    "for i in range(len(srtdata)):\n",
    "    velocities.append([((center_freq-f)/center_freq)*lightspeed - srtdata['v_lsr'].iloc[i] for f in srtdata['frequency'].iloc[i]])\n",
    "srtdata['velocity'] = velocities"
   ]
  },
  {
   "cell_type": "markdown",
   "metadata": {},
   "source": [
    "## Plot Corrected Power vs Velocity"
   ]
  },
  {
   "cell_type": "code",
   "execution_count": null,
   "metadata": {},
   "outputs": [],
   "source": [
    "obj = 'g40' #set obj to desired fits file to display (no .fits extension needed)\n",
    "data = {'velocity':srtdata['velocity'].loc[obj],'frequency':srtdata['frequency'].loc[obj],'value':srtdata['value'].loc[obj]}\n",
    "fig = px.scatter(data, x=\"velocity\",y=\"value\",hover_data=[\"frequency\"])\n",
    "fig.update_layout(\n",
    "    title=\"Corrected Power Spectrum for \" + obj, xaxis_title=\"Velocity (Km/s)\", yaxis_title=\"Value\",\n",
    ")\n",
    "fig.show()"
   ]
  },
  {
   "cell_type": "markdown",
   "metadata": {},
   "source": [
    "## Plot Galactic Rotation Curve"
   ]
  },
  {
   "cell_type": "code",
   "execution_count": null,
   "metadata": {},
   "outputs": [],
   "source": [
    "#enter list of observed galactic longitudes and max-observed velocities that you observed using the power vs velocity graphs above\n",
    "#list length should equal the number of galactic longitudes observed\n",
    "l = [0,10,20,30,40,50,60,70,80,90]\n",
    "vmax_obs = [61,75,120,121,97,92,60,40,37,28] #user enter\n",
    "\n",
    "#calculated values based on galactic longitude\n",
    "r= [0,1.5,2.9,4.2,5.5,6.5,7.4,8.0,8.37,8.5] #kpc #R = R_0*sin(l)\n",
    "w0r = [0,39,75,109,142,168,192,207,217,220]\n",
    "\n",
    "#calculate rotational velocity using observations\n",
    "v = [vmax_obs[i] + w0r[i] for i in range(len(vmax_obs))]\n",
    "print(v)\n",
    "\n",
    "#calculate \n",
    "fig = go.Figure(data=go.Scatter(x=r[2:], y=v[2:], mode=\"markers\"))\n",
    "fig.update_layout(\n",
    "    title=\"Galactic Rotation Curve\", xaxis_title=\"Distance from Galactic Center R (kpc)\", \n",
    "    yaxis_title=\"Galactic Rotation Velocity (km/s)\")\n",
    "fig.update_yaxes(range=[0,300])\n",
    "fig.update_xaxes(range=[0,10])\n",
    "fig.show()"
   ]
  },
  {
   "cell_type": "code",
   "execution_count": null,
   "metadata": {},
   "outputs": [],
   "source": []
  }
 ],
 "metadata": {
  "kernelspec": {
   "display_name": "Python 3",
   "language": "python",
   "name": "python3"
  },
  "language_info": {
   "codemirror_mode": {
    "name": "ipython",
    "version": 3
   },
   "file_extension": ".py",
   "mimetype": "text/x-python",
   "name": "python",
   "nbconvert_exporter": "python",
   "pygments_lexer": "ipython3",
   "version": "3.7.3"
  }
 },
 "nbformat": 4,
 "nbformat_minor": 4
}
