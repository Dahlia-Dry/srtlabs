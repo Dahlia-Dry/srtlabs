{
 "cells": [
  {
   "cell_type": "markdown",
   "metadata": {},
   "source": [
    "# SRT Lab: Intro to Digital Signal Processing for Radio Astronomy"
   ]
  },
  {
   "cell_type": "markdown",
   "metadata": {},
   "source": [
    "## Introduction"
   ]
  },
  {
   "cell_type": "markdown",
   "metadata": {},
   "source": [
    "The 21cm line produced by neutral hydrogen in interstellar space provides radio astronomers with a very useful probe for studying the differential rotation of spiral galaxies. By observing hydrogen lines at different points along the Galactic plane one can show that the angular velocity increases as you look at points closer to the Galactic center. The purpose of this experiment is to create a rotational curve for the Milky Way Galaxy using 21-cm spectral lines observed with a small radio telescope. The sample observations for this experiment will be made using the small radio telescope located at the Haystack Observatory. The rotational curve will be created by plotting the maximum velocity observed along each line of sight versus the distance of this point from the Galactic center. \n",
    "\n",
    "Hydrogen is the most abundant element in the cosmos; it makes up 80% of the universe’s mass.  Therefore, it is no surprise that one of the most significant spectral lines in radio astronomy is the 21-cm hydrogen line. In interstellar space, gas is extremely cold. Therefore, hydrogen atoms in the interstellar medium are at such low temperatures (~100 K) that they are in the ground electronic state. This means that the electron is as close to the nucleus as it can get, and it has the lowest allowed energy. Radio spectral lines arise from changes between one energy level to another.\n",
    "\n",
    "A neutral hydrogen atom consists of one proton and one electron, in orbit around the nucleus. Both the proton and the electron spin about their individual axes, but they do not spin in just one direction. They can spin in the same direction (parallel) or in opposite directions (anti-parallel). The energy carried by the atom in the parallel spin is greater than the energy it has in the anti-parallel spin. Therefore, when the spin state flips from parallel to anti parallel, energy (in the form of a low energy photon) is emitted at a radio wavelength of 21-cm. This 21-cm radio spectral line corresponds to a frequency of 1.420 GHz.\n",
    "\n",
    "The first person to predict this 21-cm line for neutral hydrogen was H. C. van de Hulst in 1944. However, it was not until 1951 that a Harvard team created the necessary equipment, and the first detection of this spectral line was made. \n",
    "\n",
    "One reason this discovery is so significant is because hydrogen radiation is not impeded by interstellar dust. Optical observations of the Galaxy are limited due to the interstellar dust, which does not allow the penetration of light waves. However, this problem does not arise when making radio measurements of the HI region. Radiation from this region can be detected anywhere in our Galaxy.\n",
    "\n",
    "Measurements of the HI region of the Galaxy can be used in various calculations. For example, observations of the 21-cm line can be used to create the rotation curve for our Milky Way Galaxy. If hydrogen atoms are distributed uniformly throughout the Galaxy, a 21-cm line will be detected from all points along the line of sight of our telescope. The only difference will be that all of these spectra will have different Doppler shifts. Once the rotation curve for the Galaxy is known, it can be used to find the distances to various objects. By knowing the Doppler shift of a body, its angular velocity can be calculated. Combining this angular velocity and the plot of the rotation curve, the distance to a certain object can be inferred. Using measurements of the HI region, the mass of the Galaxy can also be determined.\n",
    "\n",
    "**In this lab, we will use the SRT to observe the neutral hydrogen line and explore the nature of radio signals and their analysis for astronomical purposes.**"
   ]
  },
  {
   "cell_type": "code",
   "execution_count": null,
   "metadata": {},
   "outputs": [],
   "source": [
    "from IPython.display import HTML\n",
    "import digital_rf\n",
    "from astropy.io import fits\n",
    "import math\n",
    "import pandas as pd\n",
    "import cmath\n",
    "import plotly.graph_objects as go\n",
    "import sk_dsp_comm.sigsys as ss\n",
    "import scipy.signal as signal\n",
    "from IPython.display import Image, SVG\n",
    "%pylab inline\n",
    "from ipywidgets import interact, interactive\n",
    "import os\n",
    "from astrocalc import *\n",
    "from dataprocessing import SRTData\n",
    "pylab.rcParams['savefig.dpi'] = 100 # default 72\n",
    "%config InlineBackend.figure_formats=['svg'] # SVG inline viewing"
   ]
  },
  {
   "cell_type": "markdown",
   "metadata": {},
   "source": [
    "## I. Fourier Transforms"
   ]
  },
  {
   "cell_type": "markdown",
   "metadata": {},
   "source": [
    "The Fourier transform is an incredibly important tool used across a wide variety of fields in science, math, and engineering. It is of particular importance to radio astronomers because it is a key component of digital signal processing, data processing, and instrumentation, in addition to being a cornerstone of interferometry and aperture synethsis. \n",
    "The continuous Fourier transform is a reversible, linear transform defined for a complex, integrable function f(x) as:    \n",
    "$ F(s) = \\int_{-\\infty}^{\\infty}f(x)e^{-i 2 \\pi s x}dx$      \n",
    "The Fourier transform of the waveform $f(t)$ expressed as a time-domain signal is the spectrum $F(\\nu)$ expressed as the frequency domain signal, where t is in seconds and $\\nu$ is in Hz.\n",
    "Complex exponentials, or complex numbers where the real and imaginary components are sinusoids, are key to the transform. They can be expressed using Euler's formula, $e^{i \\phi} = \\cos{\\phi} + i\\sin{\\phi}$, and they form a set that is complete and orthogonal. This property of complex exponentials makes Fourier transforms highly useful in fields ranging from radio propagation to quantum mechanics, because it means that they can represent any piecewise continuous function and minimize the least-square error between the function and its representation.   \n",
    "While the continuous Fourier transform converts a time-domain signal of infinite duration into a continuous spectrum composed of an infinite number of sinusoids, in practice we tend to deal with signals that are discretely sampled (usually at constant intervals) and are periodic or of finite duration. This is where the discrete Fourier transform (DFT) comes in, because only a finite number of sinusoids are needed. Consider the equation for the DFT of a signal x of length N:\n",
    "$X[k] = \\sum_{n=0}^{N-1} x[n] e^{-i 2 \\pi \\frac{k n}{N}}$   \n",
    "The DFT of an N-point input in the time domain is an N-point frequency spectrum, with Fourier frequencies k randing from $-(\\frac{N}{2}-1)$ to $\\frac{N}{2}$ which pass through the 0 frequency which is also known as the DC component. Each bin number represents the number of sinusoidal periods present in the time domain and can be described by $X_k=A_k e^{i \\phi_k}$, where $A_k$ and $\\phi_k$ are the respective amplitudes and phases of each sinusoid.    \n",
    "Usually, the DFT is computed by an algorithm known as the fast Fourier transform (FFT), which is ubiquitous in signal processing and modern electronics. Try using the code below to experiment with the fast Fourier transform. "
   ]
  },
  {
   "cell_type": "code",
   "execution_count": null,
   "metadata": {},
   "outputs": [],
   "source": [
    "def fft_approx(x,t,Nfft):\n",
    "    fs = 1/(t[1] - t[0])\n",
    "    t0 = (t[-1]+t[0])/2 # time delay at center\n",
    "    N0 = len(t)/2 # FFT center in samples\n",
    "    f = np.arange(-1/2,1/2,1/Nfft)\n",
    "    w, X = signal.freqz(x,1,2*pi*f)\n",
    "    X /= fs # account for dt = 1/fs in integral\n",
    "    X *= exp(-1j*2*pi*f*fs*t0)# time interval correction\n",
    "    X *= exp(1j*2*pi*f*N0)# FFT time interval is [0,Nfft-1]\n",
    "    F = f*fs\n",
    "    return F, X\n",
    "\n",
    "def plot_fft(D1,D2,W1,W2,harmonics1,harmonics2):\n",
    "    t = arange(-5,5,.01)\n",
    "    x_rect = ss.rect(t-D1,W1)\n",
    "    x_tri = ss.tri(t-D2,W2)\n",
    "    for h in range(harmonics1):\n",
    "        x_rect = x_rect + ss.rect(t-D1,(h+1)*W1)\n",
    "    for h in range(harmonics2):\n",
    "        x_tri = x_tri + ss.tri(t-D2,(h+1)*W2)\n",
    "    #plot square wave\n",
    "    subplot(221)\n",
    "    plot(t,x_rect)\n",
    "    grid()\n",
    "    xlabel(r'Time (s)')\n",
    "    ylabel(r'$\\Pi((t-3)/2)$')\n",
    "    #plot triangular wave\n",
    "    subplot(222)\n",
    "    plot(t,x_tri)\n",
    "    grid()\n",
    "    xlabel(r'Time (s)')\n",
    "    ylabel(r'$\\Lambda((t+2)/1.5)$')\n",
    "    tight_layout()\n",
    "    # fast fourier transform of square wave\n",
    "    f,X0 = fft_approx(x_rect,t,4096)\n",
    "    subplot(223)\n",
    "    plot(f,abs(X0)) #plot magnitude\n",
    "    #plot(f,angle(X0))  #plot argument\n",
    "    grid()\n",
    "    xlim([-10,10])\n",
    "    title(r'Approx. Spectrum Magnitude')\n",
    "    xlabel(r'Frequency (Hz)')\n",
    "    ylabel(r'$|X_0(\\Pi)|$')\n",
    "    tight_layout()\n",
    "    # fast fourier transform of triangular wave\n",
    "    f,X0 = fft_approx(x_tri,t,4096)\n",
    "    subplot(224)\n",
    "    plot(f,abs(X0))  #plot magnitude\n",
    "    #plot(f,angle(X0))  #plot argument\n",
    "    grid()\n",
    "    xlim([-10,10])\n",
    "    title(r'Approx. Spectrum Magnitude')\n",
    "    xlabel(r'Frequency (Hz)')\n",
    "    ylabel(r'$|X_0(\\Lambda)|$')\n",
    "    tight_layout()\n",
    "\n",
    "interactive_plot = interactive(plot_fft,D1 = (-3,3,.5), D2 = (-3,3,.5), \n",
    "                               W1 = (0.5,2,.25), W2 = (0.5,2,.25),\n",
    "                              harmonics1=(0,10,1),harmonics2=(0,10,1));\n",
    "output = interactive_plot.children[-1]\n",
    "output.layout.height = '350px'\n",
    "interactive_plot"
   ]
  },
  {
   "cell_type": "markdown",
   "metadata": {},
   "source": [
    "## II. Collecting Data"
   ]
  },
  {
   "cell_type": "markdown",
   "metadata": {},
   "source": [
    "![SRT Dash interface](imgs/srtui.png)"
   ]
  },
  {
   "cell_type": "markdown",
   "metadata": {},
   "source": [
    "1. Start up the SRT Dash interface\n",
    "2. Set the center frequency to 1420.4 MHz (the hydrogen line), with a bandwidth of 2 MHz. Navigate to the \"routine\" menu and click \"start\" to begin recording data; let it run for some arbitrary amount of time before clicking \"stop\" to end the recording.\n",
    "3. Enter the directory of your recorded data channel in the cell below"
   ]
  },
  {
   "cell_type": "markdown",
   "metadata": {},
   "source": [
    "## Read in .fits Data"
   ]
  },
  {
   "cell_type": "code",
   "execution_count": null,
   "metadata": {},
   "outputs": [],
   "source": [
    "#Specify filepath to fits data\n",
    "datadir = 'srt-galactic-test/g00.fits'\n",
    "hdul = fits.open(datadir)\n",
    "data = hdul[0].data/len(hdul)\n",
    "f_s = 2e6\n",
    "n_spec = len(data)\n",
    "for i in range(1,len(hdul)):\n",
    "    data = data + hdul[i].data/len(hdul)\n",
    "freqs = np.fft.fftfreq(n_spec,1./f_s)\n",
    "freqs = np.fft.fftshift(freqs)*1e-6+1420.4\n",
    "srtdata = pd.DataFrame({'value':data,'frequency':freqs})"
   ]
  },
  {
   "cell_type": "markdown",
   "metadata": {},
   "source": [
    "## III. Power Spectra"
   ]
  },
  {
   "cell_type": "markdown",
   "metadata": {},
   "source": [
    "The power spectrum,defined as $\\overline{F(s)}F(s)=\\lvert F(s) \\rvert^2$, is a very useful quantity in astronomy. It preserves no information from the original function. By Rayleigh's Theorem, we know that signal energies are equal in the frequency and time domains because the integral of the power spectrum equals the integral of the squared modulus of the function:   \n",
    "$\\int_{-\\infty}^{\\infty}\\lvert f(x) \\rvert^2 dx = \\int_{-\\infty}^{\\infty} \\lvert F(s) \\rvert^2 ds$    \n",
    "Use the code below to plot a power spectrum of your SRT data. How does the spectrum change when you change the bin size of the fast fourier transform?"
   ]
  },
  {
   "cell_type": "markdown",
   "metadata": {},
   "source": [
    "### For .fits:"
   ]
  },
  {
   "cell_type": "code",
   "execution_count": null,
   "metadata": {},
   "outputs": [],
   "source": [
    "plot(srtdata['frequency'],srtdata['value'])\n",
    "xlabel('Power')\n",
    "ylabel('Frequency (MHz)')\n",
    "title('Integrated Power Spectrum')"
   ]
  },
  {
   "cell_type": "markdown",
   "metadata": {},
   "source": [
    "## IV. Spectrograms"
   ]
  },
  {
   "cell_type": "markdown",
   "metadata": {},
   "source": [
    "A spectrogram is a three-dimensional plot of signal amplitude versus time and frequency, usually depicted in the time-frequency plane with the third dimension, amplitude, represented by color. It is created by taking chunks of a signal, performing a DFT on each chunk, and then plotting the resulting series of spectra versus time. A spectrogram is a visual way of representing the signal strength, or “loudness”, of a signal over time at various frequencies present in a particular waveform. Use the code below to plot a spectrogram of your SRT data. Try going into the .config file of the srt software and changing the bin size of the Fast Fourier Transform, then collecting and plotting new data; how does the spectrogram change? Can you see the hydrogen line emission?"
   ]
  },
  {
   "cell_type": "markdown",
   "metadata": {},
   "source": [
    "## For .fits:"
   ]
  },
  {
   "cell_type": "code",
   "execution_count": null,
   "metadata": {},
   "outputs": [],
   "source": [
    "samps = np.row_stack([i.data for i in hdul])\n",
    "freq_mat,s_mat = np.meshgrid(srtdata['frequency'],np.arange(len(hdul)))\n",
    "print(freq_mat.shape,s_mat.shape)\n",
    "plt.pcolormesh(s_mat, freq_mat, np.fft.fftshift(samps,axes=1))\n",
    "cb = plt.colorbar()\n",
    "plt.ylabel('Frequency (MHz)')\n",
    "plt.xlabel('Sample Number')\n",
    "plt.title(\"Spectrogram\")\n",
    "cb.set_label(\"power\")"
   ]
  },
  {
   "cell_type": "markdown",
   "metadata": {},
   "source": [
    "## V. Using the Doppler Effect to Map the Milky Way"
   ]
  },
  {
   "cell_type": "markdown",
   "metadata": {},
   "source": [
    "Our observations of the Neutral Hydrogen in the galaxy were made around its rest frequency of 1420.4 MHz. However, we observe it at different frequencies since it is moving relative to us in the galaxy.  Using the Doppler effect, we can derive the following formula:\n",
    "\n",
    "\n",
    "$\\frac{\\lambda_e - \\lambda_o}{\\lambda_e} = \\frac{\\Delta \\lambda}{\\lambda} = \\frac{v}{c}$   \n",
    "\n",
    "\n",
    "Where $\\lambda_e$ is the wavelength emitted, $\\lambda_o$ is the wavelength observed, and c is the speed of light (300,000 km/s). To convert from frequency to wavelength, $c=\\lambda f$ to get:  \n",
    "\n",
    "\n",
    "$\\frac{f_e-f_o}{f_e} c = v$   \n",
    "\n",
    "\n",
    "Where $f_e$ is the frequency emitted and $f_o$ is the frequency observed. We know the frequency emitted by the hydrogen line is roughly 1420.4 MHz, so we can use $f_e=1420.4$, which yields $v = \\frac{1420.4-f_o}{1420.4} c$.       \n",
    "\n",
    "\n",
    "However, we aren't done yet; we have to take into account the shift observed both due to the rotation of the Earth and the motion of the sun around the galactic center. To fully account for these factors, it is also necessary to subtract the velocity relative to the local standard of rest ($v_{lsr}$) from this calculation, to get the following:  \n",
    "\n",
    "\n",
    "$v = \\frac{1420.4-f_o}{1420.4} c - v_{lsr}$        \n",
    "\n",
    "\n",
    "The $v_{lsr}$ can be found if we know latitude, longitude, altitude, azimuth, and the time of the observation. Most of this information, with the exception of latitude and longitude, is already stored in the .fits header of your data, so all you need to enter is the latitude and longitude of your location in the cell below in order to calculate $v_{lsr}$. Using this, we can convert our power vs frequency data to power vs relative velocity. Use the code below to convert your observed frequencies to relative velocities, and then re-plot the spectrogram, this time using relative velocity instead of frequency as the y axis."
   ]
  },
  {
   "cell_type": "code",
   "execution_count": null,
   "metadata": {},
   "outputs": [],
   "source": [
    "#calculate v_lsr\n",
    "#Enter your Latitude and Longitude here:\n",
    "lat = 42.5 #at Haystack\n",
    "lon = 71.5 #at Haystack\n",
    "#-------------------------------------\n",
    "date = hdul[0].header['Date-OBS']\n",
    "year= int(hdul[0].header['Date-OBS'].split('-')[0])\n",
    "day = dayOfYear(date)\n",
    "time = hdul[0].header['UTC']\n",
    "hour,minute,sec = map(float,time.split(\":\"))\n",
    "metadata = hdul[0].header['METADATA'].split(',')\n",
    "for element in metadata:\n",
    "    if \"motor_az\" in element:\n",
    "        az = float(element.split(':')[-1])\n",
    "    elif \"motor_el\" in element:\n",
    "        el = float(element.split(':')[-1])\n",
    "v_lsr = calc_vlsr(year,day,hour,minute,sec,az,el,lat,lon)\n",
    "\n",
    "#use doppler shift to calculate relative velocity for each frequency bin\n",
    "lightspeed = 299792\n",
    "center_freq = 1420.4\n",
    "velocities = [((center_freq-f)/center_freq)*lightspeed - v_lsr for f in srtdata['frequency']]\n",
    "srtdata['velocity'] = velocities"
   ]
  },
  {
   "cell_type": "code",
   "execution_count": null,
   "metadata": {},
   "outputs": [],
   "source": [
    "#Plot Corrected Spectrogram- Velocity\n",
    "samps = np.row_stack([i.data for i in hdul])\n",
    "vel_mat,s_mat = np.meshgrid(srtdata['velocity'],np.arange(len(hdul)))\n",
    "print(vel_mat.shape,s_mat.shape,np.fft.fftshift(samps,axes=1).shape)\n",
    "plt.pcolormesh(s_mat, vel_mat, np.fft.fftshift(samps,axes=1))\n",
    "cb = plt.colorbar()\n",
    "plt.ylabel('Velocity (km/s))')\n",
    "plt.xlabel('Sample Number')\n",
    "plt.title(\"Spectrogram\")\n",
    "cb.set_label(\"power\")"
   ]
  },
  {
   "cell_type": "markdown",
   "metadata": {},
   "source": [
    "[More in-depth version is mapping Galactic rotation curve lab]"
   ]
  },
  {
   "cell_type": "markdown",
   "metadata": {},
   "source": []
  }
 ],
 "metadata": {
  "kernelspec": {
   "display_name": "Python 3",
   "language": "python",
   "name": "python3"
  },
  "language_info": {
   "codemirror_mode": {
    "name": "ipython",
    "version": 3
   },
   "file_extension": ".py",
   "mimetype": "text/x-python",
   "name": "python",
   "nbconvert_exporter": "python",
   "pygments_lexer": "ipython3",
   "version": "3.7.3"
  }
 },
 "nbformat": 4,
 "nbformat_minor": 4
}
