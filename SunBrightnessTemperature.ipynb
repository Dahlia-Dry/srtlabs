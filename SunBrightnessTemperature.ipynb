{
 "cells": [
  {
   "cell_type": "markdown",
   "metadata": {},
   "source": [
    "# SRT Lab: The Sun's Brightness Temperature"
   ]
  },
  {
   "cell_type": "code",
   "execution_count": null,
   "metadata": {},
   "outputs": [],
   "source": [
    "import digital_rf\n",
    "from digital_rf.digital_metadata import DigitalMetadataReader\n",
    "from drf_process import *\n",
    "from astropy.io import fits\n",
    "import numpy as np\n",
    "import pandas as pd\n",
    "import plotly.graph_objects as go\n",
    "import os\n",
    "from dataprocessing import *"
   ]
  },
  {
   "cell_type": "markdown",
   "metadata": {},
   "source": [
    "## Option 1: Read in Digital RF Data"
   ]
  },
  {
   "cell_type": "code",
   "execution_count": null,
   "metadata": {
    "scrolled": true
   },
   "outputs": [],
   "source": [
    "#Run this block if your data is in digital rf format\n",
    "#If the data is discontinuous (you get errors trying to read it) it may be necessary to find the ranges\n",
    "#in which there is data. If so, uncomment the call to getranges(), filling in the location of your metadata, \n",
    "#and uncomment the instantatiation of an SRTData object that uses those ranges as an argument\n",
    "def getranges(metadatadir,outfile):\n",
    "    \"\"\"\n",
    "    metadatadir: str, the directory of your metadata\n",
    "    outfile: str, the .txt file to write the data ranges to\n",
    "    \"\"\"\n",
    "    meta = DigitalMetadataReader(metadatadir, accept_empty=False)\n",
    "    metadf = meta.read_dataframe(meta.get_bounds()[0], meta.get_bounds()[1])\n",
    "    find_boundset(metadf, outfile)\n",
    "    f = open(outfile,'r')\n",
    "    r = [line.replace('\\n','') for line in f]\n",
    "    ranges = []\n",
    "    for pair in r:\n",
    "        ranges.append((int(pair.split(' ')[0]),int(pair.split(' ')[1])))\n",
    "    print(ranges)\n",
    "    return ranges\n",
    "ranges= getranges('srtlabs/srt-azel-test/ch1','testing.txt')\n",
    "srtdata = SRTData(datadir=os.path.join(os.path.dirname(os.path.abspath(os.curdir)),'srtlabs/srt-azel-test/ch1'),\n",
    "                    params=[\"power\",\"alt\", \"az\"],ranges = ranges).process()\n",
    "#Uncomment below if data is continuous (no ranges necessary)\n",
    "#srtdata = SRTData(datadir=os.path.join(os.path.dirname(os.path.abspath(os.curdir)),'srtlabs/srt-azel-test/ch1'),\n",
    "                    #params=[\"power\",\"alt\"]).process()"
   ]
  },
  {
   "cell_type": "markdown",
   "metadata": {},
   "source": [
    "## Option 2 (Recommended, Faster): Read in .fits Data"
   ]
  },
  {
   "cell_type": "code",
   "execution_count": null,
   "metadata": {},
   "outputs": [],
   "source": [
    "azfile = 'srt-azel-test/az.fits' \n",
    "elfile = 'srt-azel-test/el.fits'\n",
    "azscan = pd.DataFrame({'power':[],'alt':[],'az':[]})\n",
    "elscan = pd.DataFrame({'power':[],'alt':[],'az':[]})\n",
    "files = [azfile, elfile]\n",
    "dfs = [azscan, elscan]\n",
    "for z in range(len(files)):\n",
    "    hdul = fits.open(files[z])\n",
    "    az = []\n",
    "    el = []\n",
    "    values = []\n",
    "    data = hdul[0].data/len(hdul)\n",
    "    for i in range(1,len(hdul)):\n",
    "        metadata = hdul[i].header['METADATA'].split(',')\n",
    "        data = data + hdul[i].data/len(hdul)\n",
    "        values.append(np.mean(data))\n",
    "        for element in metadata:\n",
    "            if \"motor_el\" in element:\n",
    "                el.append(float(element.split(':')[-1]))\n",
    "            elif \"motor_az\" in element:\n",
    "                az.append(float(element.split(':')[-1]))\n",
    "    dfs[z]['power'] = values\n",
    "    dfs[z]['alt'] = el\n",
    "    dfs[z]['az'] = az"
   ]
  },
  {
   "cell_type": "markdown",
   "metadata": {},
   "source": [
    "## Npoint Scan (For Digital RF)"
   ]
  },
  {
   "cell_type": "code",
   "execution_count": null,
   "metadata": {},
   "outputs": [],
   "source": [
    "# make contour plot\n",
    "fig = go.Figure()\n",
    "x, y = np.asarray(alt), np.asarray(az)\n",
    "z = np.asarray(srtdata[\"power\"]).reshape((5, 5))\n",
    "fig = go.Figure(data=go.Contour(z=z, x=x, y=y))\n",
    "fig.update_layout(\n",
    "    title=\"5x5 Npoint Scan\",\n",
    "    xaxis_title=\"Altitude (degrees)\",\n",
    "    yaxis_title=\"Azimuth (degrees)\",\n",
    ")\n",
    "fig.show()"
   ]
  },
  {
   "cell_type": "markdown",
   "metadata": {},
   "source": [
    "## Azimuth/Altitude Scan (For .fits)"
   ]
  },
  {
   "cell_type": "code",
   "execution_count": null,
   "metadata": {},
   "outputs": [],
   "source": [
    "# Altitude Scan\n",
    "fig = go.Figure()\n",
    "alt = np.asarray(elscan['alt'])\n",
    "power = np.asarray(elscan[\"power\"])\n",
    "fig = go.Figure(data=go.Scatter(x=alt, y=power, mode=\"markers\"))\n",
    "fig.update_layout(\n",
    "    title=\"Altitude Scan\", xaxis_title=\"Altitude (degrees)\", yaxis_title=\"Power\",\n",
    ")\n",
    "fig.show()"
   ]
  },
  {
   "cell_type": "code",
   "execution_count": null,
   "metadata": {},
   "outputs": [],
   "source": [
    "# Azimuth Scan\n",
    "# Note to self -- look up how to convert power to temp\n",
    "fig = go.Figure()\n",
    "az = np.asarray(azscan['az'])\n",
    "power = np.asarray(azscan[\"power\"])\n",
    "fig = go.Figure(data=go.Scatter(x=az, y=power, mode=\"markers\"))\n",
    "fig.update_layout(\n",
    "    title=\"Azimuth Scan\", xaxis_title=\"Azimuth (degrees)\", yaxis_title=\"Power\",\n",
    ")\n",
    "fig.show()"
   ]
  },
  {
   "cell_type": "code",
   "execution_count": null,
   "metadata": {},
   "outputs": [],
   "source": []
  }
 ],
 "metadata": {
  "kernelspec": {
   "display_name": "Python 3",
   "language": "python",
   "name": "python3"
  },
  "language_info": {
   "codemirror_mode": {
    "name": "ipython",
    "version": 3
   },
   "file_extension": ".py",
   "mimetype": "text/x-python",
   "name": "python",
   "nbconvert_exporter": "python",
   "pygments_lexer": "ipython3",
   "version": "3.7.3"
  }
 },
 "nbformat": 4,
 "nbformat_minor": 4
}
