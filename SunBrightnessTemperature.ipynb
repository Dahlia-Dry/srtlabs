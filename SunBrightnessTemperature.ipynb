{
 "cells": [
  {
   "cell_type": "markdown",
   "metadata": {},
   "source": [
    "# SRT Lab 1: The Sun's Brightness Temperature"
   ]
  },
  {
   "cell_type": "code",
   "execution_count": null,
   "metadata": {},
   "outputs": [],
   "source": [
    "import digital_rf\n",
    "# import matplotlib.pyplot as plt\n",
    "import numpy as np\n",
    "import pandas as pd\n",
    "import plotly.graph_objects as go\n",
    "\n",
    "from dataprocessing import SRTData"
   ]
  },
  {
   "cell_type": "code",
   "execution_count": null,
   "metadata": {},
   "outputs": [],
   "source": [
    "# process raw SRT data to power time series\n",
    "alt = np.arange(30, 51, step=5)\n",
    "az = np.arange(30, 51, step=5)\n",
    "srtdata = SRTData(\n",
    "    datadir=\"ch1\", params=[\"power\", \"time\", \"r\", \"phase\"], start=0, end=25\n",
    ").process()"
   ]
  },
  {
   "cell_type": "markdown",
   "metadata": {},
   "source": [
    "## Part 1: Npoint Scan"
   ]
  },
  {
   "cell_type": "code",
   "execution_count": null,
   "metadata": {},
   "outputs": [],
   "source": [
    "# make contour plot\n",
    "fig = go.Figure()\n",
    "x, y = np.asarray(alt), np.asarray(az)\n",
    "z = np.asarray(srtdata[\"power\"]).reshape((5, 5))\n",
    "fig = go.Figure(data=go.Contour(z=z, x=x, y=y))\n",
    "fig.update_layout(\n",
    "    title=\"5x5 Npoint Scan\",\n",
    "    xaxis_title=\"Altitude (degrees)\",\n",
    "    yaxis_title=\"Azimuth (degrees)\",\n",
    ")\n",
    "fig.show()"
   ]
  },
  {
   "cell_type": "markdown",
   "metadata": {},
   "source": [
    "## Part 2: Azimuth/Altitude Scan"
   ]
  },
  {
   "cell_type": "code",
   "execution_count": null,
   "metadata": {},
   "outputs": [],
   "source": [
    "# Altitude Scan\n",
    "# Note to self -- look up how to convert power to temp\n",
    "fig = go.Figure()\n",
    "alt = np.asarray(alt)\n",
    "power = np.asarray(srtdata[\"power\"])\n",
    "fig = go.Figure(data=go.Scatter(x=alt, y=power, mode=\"markers\"))\n",
    "fig.update_layout(\n",
    "    title=\"Altitude Scan\", xaxis_title=\"Altitude (degrees)\", yaxis_title=\"Power\",\n",
    ")\n",
    "fig.show()"
   ]
  },
  {
   "cell_type": "code",
   "execution_count": null,
   "metadata": {},
   "outputs": [],
   "source": [
    "# Azimuth Scan\n",
    "# Note to self -- look up how to convert power to temp\n",
    "fig = go.Figure()\n",
    "az = np.asarray(az)\n",
    "power = np.asarray(srtdata[\"power\"])\n",
    "fig = go.Figure(data=go.Scatter(x=az, y=power, mode=\"markers\"))\n",
    "fig.update_layout(\n",
    "    title=\"Azimuth Scan\", xaxis_title=\"Azimuth (degrees)\", yaxis_title=\"Power\",\n",
    ")\n",
    "fig.show()"
   ]
  },
  {
   "cell_type": "markdown",
   "metadata": {},
   "source": [
    "## Part 3: Determining Half Power Beamwidth"
   ]
  },
  {
   "cell_type": "code",
   "execution_count": null,
   "metadata": {},
   "outputs": [],
   "source": [
    "# Polar Plot\n",
    "fig = go.Figure(\n",
    "    data=go.Scatterpolar(\n",
    "        r=srtdata[\"r\"], theta=srtdata[\"phase\"] * 180 / 3.141592, mode=\"markers\",\n",
    "    )\n",
    ")\n",
    "\n",
    "fig.update_layout(showlegend=False)\n",
    "fig.show()"
   ]
  },
  {
   "cell_type": "code",
   "execution_count": null,
   "metadata": {},
   "outputs": [],
   "source": []
  }
 ],
 "metadata": {
  "kernelspec": {
   "display_name": "Python 3",
   "language": "python",
   "name": "python3"
  },
  "language_info": {
   "codemirror_mode": {
    "name": "ipython",
    "version": 3
   },
   "file_extension": ".py",
   "mimetype": "text/x-python",
   "name": "python",
   "nbconvert_exporter": "python",
   "pygments_lexer": "ipython3",
   "version": "3.7.6"
  }
 },
 "nbformat": 4,
 "nbformat_minor": 4
}
