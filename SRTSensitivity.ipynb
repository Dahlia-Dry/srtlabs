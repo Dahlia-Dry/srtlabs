{
 "cells": [
  {
   "cell_type": "markdown",
   "metadata": {},
   "source": [
    "# SRT Lab: Measuring Sensitivity"
   ]
  },
  {
   "cell_type": "code",
   "execution_count": null,
   "metadata": {},
   "outputs": [],
   "source": [
    "import digital_rf\n",
    "# import matplotlib.pyplot as plt\n",
    "import numpy as np\n",
    "import math\n",
    "import pandas as pd\n",
    "from astropy.io import fits\n",
    "import plotly.graph_objects as go\n",
    "import plotly.express as px\n",
    "from dataprocessing import SRTData"
   ]
  },
  {
   "cell_type": "code",
   "execution_count": null,
   "metadata": {},
   "outputs": [],
   "source": [
    "# Uncomment the following if data is Digital RF:\n",
    "# process raw SRT data to power time series\n",
    "#srtdata = SRTData(\n",
    "    #datadir=\"ch1\", params=[\"power\",\"time\"], starttime=0, endtime=25,\n",
    "#).process()\n",
    "\n",
    "#Otherwise, read in a fits file here (recommended):\n",
    "datafile = 'test.fits'  #specify filepath to fits data \n",
    "\n",
    "hdul = fits.open(datafile)\n",
    "data = [np.mean(hdul[0].data)]\n",
    "for i in range(1,len(hdul)):\n",
    "    data.append(np.mean(hdul[i].data))\n",
    "srtdata = pd.DataFrame({'power':data})\n",
    "print(len(srtdata))"
   ]
  },
  {
   "cell_type": "markdown",
   "metadata": {},
   "source": [
    "## Calculate Standard Deviation of Averages"
   ]
  },
  {
   "cell_type": "code",
   "execution_count": null,
   "metadata": {},
   "outputs": [],
   "source": [
    "def s(n):\n",
    "    sigma = 0\n",
    "    m = math.ceil(len(srtdata['power'])/n)\n",
    "    count = 0\n",
    "    a = 0\n",
    "    abar = np.mean(srtdata['power'])\n",
    "    for i in range(m):\n",
    "        a = np.mean(srtdata['power'][count:count+n])\n",
    "        sigma = sigma + (a-abar)**2\n",
    "        count = count + n\n",
    "    sigma = sigma / (m-1)\n",
    "    sigma = sigma **(1/2)\n",
    "    return sigma\n",
    "n = [1, 3, 10, 30, 100,300]\n",
    "sn = [s(x) for x in n]"
   ]
  },
  {
   "cell_type": "markdown",
   "metadata": {},
   "source": [
    "## Plot Results"
   ]
  },
  {
   "cell_type": "code",
   "execution_count": null,
   "metadata": {},
   "outputs": [],
   "source": [
    "fig = px.scatter(x=n, y=sn)\n",
    "fig.update_layout(\n",
    "    title=\"S(N) vs N\", xaxis_title=\"number of samples N in each average\", yaxis_title=\"sigma K\",\n",
    ")\n",
    "fig.show()\n",
    "\n",
    "fig = px.scatter(x=10*np.log(n), y=10*np.log(sn), trendline='ols')\n",
    "fig.update_layout(\n",
    "    title=\"10logS(N) vs 10logN\", xaxis_title=\"10logN\", yaxis_title=\"10logS(N)\",\n",
    ")\n",
    "fig.show()"
   ]
  },
  {
   "cell_type": "code",
   "execution_count": null,
   "metadata": {},
   "outputs": [],
   "source": []
  }
 ],
 "metadata": {
  "kernelspec": {
   "display_name": "Python 3",
   "language": "python",
   "name": "python3"
  },
  "language_info": {
   "codemirror_mode": {
    "name": "ipython",
    "version": 3
   },
   "file_extension": ".py",
   "mimetype": "text/x-python",
   "name": "python",
   "nbconvert_exporter": "python",
   "pygments_lexer": "ipython3",
   "version": "3.7.3"
  }
 },
 "nbformat": 4,
 "nbformat_minor": 4
}
